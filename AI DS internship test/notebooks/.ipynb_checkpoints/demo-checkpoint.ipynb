{
  "nbformat": 4,
  "nbformat_minor": 0,
  "metadata": {
    "colab": {
      "provenance": []
    },
    "kernelspec": {
      "name": "python3",
      "display_name": "Python 3"
    },
    "language_info": {
      "name": "python"
    }
  },
  "cells": [
    {
      "cell_type": "markdown",
      "source": [
        "# MNIST Classifier Demo\n",
        "### Winstars AI DS Internship Test\n",
        "\n",
        "This Jupyter Notebook demonstrates how three models work to classify handwritten MNIST digits:\n",
        "- **Random Forest (RF)**\n",
        "- **Feed-Forward Neural Network (NN)**\n",
        "- **Convolutional Neural Network (CNN)**\n",
        "\n",
        "## 📌 Description of the approach:\n",
        "- We use `MnistClassifier`, which is a wrapper for all three models.\n",
        "- Each model has `train()` and `predict()`, which provides a single interface.\n",
        "- We use `EarlyStopping`and `Dropout` for neural networks to prevent overtraining.\n",
        "- We visualize the training process and results.\n",
        "\n",
        "---"
      ],
      "metadata": {
        "id": "N23JiSy8XKFX"
      }
    },
    {
      "cell_type": "markdown",
      "source": [],
      "metadata": {
        "id": "Cv32pT7dX67G"
      }
    },
    {
      "cell_type": "markdown",
      "source": [
        "## 📌 Downloading the necessary libraries\n",
        "We use:\n",
        "- `numpy` – for working with arrays.\n",
        "- `matplotlib`, `seaborn` – for graphs.\n",
        "- `tensorflow.keras.datasets.mnist` – for loading data.\n",
        "- `MnistClassifier` – for testing models."
      ],
      "metadata": {
        "id": "DEAma3xmX9tW"
      }
    },
    {
      "cell_type": "code",
      "source": [
        "import numpy as np\n",
        "import matplotlib.pyplot as plt\n",
        "import seaborn as sns\n",
        "from tensorflow.keras.datasets import mnist\n",
        "from models.mnist_classifier import MnistClassifier"
      ],
      "metadata": {
        "colab": {
          "base_uri": "https://localhost:8080/",
          "height": 349
        },
        "id": "TtY8eN6FXi2w",
        "outputId": "3460a4f9-ddf8-436d-fe8f-4984e10b48c8"
      },
      "execution_count": 2,
      "outputs": [
        {
          "output_type": "error",
          "ename": "ModuleNotFoundError",
          "evalue": "No module named 'mnist_classifier'",
          "traceback": [
            "\u001b[0;31m---------------------------------------------------------------------------\u001b[0m",
            "\u001b[0;31mModuleNotFoundError\u001b[0m                       Traceback (most recent call last)",
            "\u001b[0;32m<ipython-input-2-a2280e119f6b>\u001b[0m in \u001b[0;36m<cell line: 0>\u001b[0;34m()\u001b[0m\n\u001b[1;32m      3\u001b[0m \u001b[0;32mimport\u001b[0m \u001b[0mseaborn\u001b[0m \u001b[0;32mas\u001b[0m \u001b[0msns\u001b[0m\u001b[0;34m\u001b[0m\u001b[0;34m\u001b[0m\u001b[0m\n\u001b[1;32m      4\u001b[0m \u001b[0;32mfrom\u001b[0m \u001b[0mtensorflow\u001b[0m\u001b[0;34m.\u001b[0m\u001b[0mkeras\u001b[0m\u001b[0;34m.\u001b[0m\u001b[0mdatasets\u001b[0m \u001b[0;32mimport\u001b[0m \u001b[0mmnist\u001b[0m\u001b[0;34m\u001b[0m\u001b[0;34m\u001b[0m\u001b[0m\n\u001b[0;32m----> 5\u001b[0;31m \u001b[0;32mfrom\u001b[0m \u001b[0mmnist_classifier\u001b[0m \u001b[0;32mimport\u001b[0m \u001b[0mMnistClassifier\u001b[0m\u001b[0;34m\u001b[0m\u001b[0;34m\u001b[0m\u001b[0m\n\u001b[0m",
            "\u001b[0;31mModuleNotFoundError\u001b[0m: No module named 'mnist_classifier'",
            "",
            "\u001b[0;31m---------------------------------------------------------------------------\u001b[0;32m\nNOTE: If your import is failing due to a missing package, you can\nmanually install dependencies using either !pip or !apt.\n\nTo view examples of installing some common dependencies, click the\n\"Open Examples\" button below.\n\u001b[0;31m---------------------------------------------------------------------------\u001b[0m\n"
          ],
          "errorDetails": {
            "actions": [
              {
                "action": "open_url",
                "actionText": "Open Examples",
                "url": "/notebooks/snippets/importing_libraries.ipynb"
              }
            ]
          }
        }
      ]
    },
    {
      "cell_type": "markdown",
      "source": [
        "## 📌 Завантаження MNIST та візуалізація даних\n",
        "MNIST містить 60 000 навчальних і 10 000 тестових зображень розміром `28x28` пікселів.\n",
        "\n",
        "Ось приклади перших 10 цифр із тренувального набору."
      ],
      "metadata": {
        "id": "h8VlKjvvX5CU"
      }
    },
    {
      "cell_type": "code",
      "source": [
        "# Завантажуємо MNIST\n",
        "(X_train, y_train), (X_test, y_test) = mnist.load_data()\n",
        "\n",
        "# Візуалізуємо перші 10 зображень\n",
        "fig, axes = plt.subplots(2, 5, figsize=(12, 5))\n",
        "axes = axes.flatten()\n",
        "\n",
        "for i in range(10):\n",
        "    axes[i].imshow(X_train[i], cmap=\"gray\")\n",
        "    axes[i].set_title(f\"Label: {y_train[i]}\")\n",
        "    axes[i].axis(\"off\")\n",
        "\n",
        "plt.tight_layout()\n",
        "plt.show()"
      ],
      "metadata": {
        "id": "FrNgdaleXvNp"
      },
      "execution_count": null,
      "outputs": []
    },
    {
      "cell_type": "markdown",
      "source": [
        "## 📌 Аналіз класів у наборі даних\n",
        "Дивимося, чи є дисбаланс у класах. Очікуємо рівномірний розподіл, оскільки кожна цифра представлена приблизно однаково."
      ],
      "metadata": {
        "id": "q_d5tnewX1n1"
      }
    },
    {
      "cell_type": "code",
      "source": [
        "sns.histplot(y_train, bins=10, kde=True)\n",
        "plt.title(\"Розподіл класів у тренувальному наборі\")\n",
        "plt.xlabel(\"Цифра\")\n",
        "plt.ylabel(\"Кількість зображень\")\n",
        "plt.show()"
      ],
      "metadata": {
        "id": "PRQC_4EzYG9z"
      },
      "execution_count": null,
      "outputs": []
    },
    {
      "cell_type": "markdown",
      "source": [
        "## 📌 Навчання моделей (RF, NN, CNN)\n",
        "Ми навчимо кожну модель та побудуємо графік тренування для NN і CNN."
      ],
      "metadata": {
        "id": "3UFXX_41YNPM"
      }
    },
    {
      "cell_type": "code",
      "source": [
        "def train_and_evaluate(model_type):\n",
        "    print(f\"\\n🔹 Навчання моделі: {model_type.upper()}\")\n",
        "\n",
        "    # Створюємо та навчаємо класифікатор\n",
        "    classifier = MnistClassifier(model_type)\n",
        "    history = classifier.train()\n",
        "\n",
        "    # Візуалізація процесу навчання (тільки для NN і CNN)\n",
        "    if history is not None:\n",
        "        plt.plot(history.history[\"accuracy\"], label=\"Train Accuracy\")\n",
        "        plt.plot(history.history[\"val_accuracy\"], label=\"Validation Accuracy\")\n",
        "        plt.title(f\"{model_type.upper()} - Графік точності\")\n",
        "        plt.xlabel(\"Епохи\")\n",
        "        plt.ylabel(\"Точність\")\n",
        "        plt.legend()\n",
        "        plt.show()\n",
        "\n",
        "    return classifier\n",
        "\n",
        "# Тестуємо всі 3 моделі\n",
        "models = [\"rf\", \"nn\", \"cnn\"]\n",
        "classifiers = {model: train_and_evaluate(model) for model in models}"
      ],
      "metadata": {
        "id": "S2K6qqOeYN77"
      },
      "execution_count": null,
      "outputs": []
    },
    {
      "cell_type": "markdown",
      "source": [
        "## 📌 Тестові передбачення\n",
        "Беремо випадкове зображення та перевіряємо, як кожна модель його класифікує."
      ],
      "metadata": {
        "id": "ndbZc2lYYTw2"
      }
    },
    {
      "cell_type": "code",
      "source": [
        "def test_prediction(classifier, model_name, index=0):\n",
        "    plt.imshow(X_test[index], cmap=\"gray\")\n",
        "    prediction = classifier.predict(X_test[index])\n",
        "    plt.title(f\"Модель {model_name.upper()} передбачила: {prediction}\")\n",
        "    plt.show()\n",
        "\n",
        "# Тестуємо передбачення\n",
        "for model, clf in classifiers.items():\n",
        "    test_prediction(clf, model)"
      ],
      "metadata": {
        "id": "I_ztES21YWIt"
      },
      "execution_count": null,
      "outputs": []
    },
    {
      "cell_type": "markdown",
      "source": [
        "## 📌 Підсумкове порівняння моделей\n",
        "Оцінюємо точність та час навчання для всіх 3 підходів."
      ],
      "metadata": {
        "id": "KtbX8EUmYbqT"
      }
    },
    {
      "cell_type": "code",
      "source": [
        "results = {\n",
        "    \"Model\": [\"Random Forest\", \"Neural Network\", \"CNN\"],\n",
        "    \"Accuracy\": [0.9704, 0.9796, 0.9921],  # Значення замінити на реальні\n",
        "    \"Training Time (s)\": [12, 150, 600]  # Оцінка часу навчання\n",
        "}\n",
        "\n",
        "import pandas as pd\n",
        "df_results = pd.DataFrame(results)\n",
        "df_results.set_index(\"Model\", inplace=True)\n",
        "display(df_results)"
      ],
      "metadata": {
        "id": "IhGH0s-JYcaz"
      },
      "execution_count": null,
      "outputs": []
    },
    {
      "cell_type": "code",
      "execution_count": null,
      "metadata": {
        "id": "UdgAsWOr8-FM"
      },
      "outputs": [],
      "source": [
        "from models.mnist_classifier import MnistClassifier\n",
        "from tensorflow.keras.datasets import mnist\n",
        "\n",
        "# Завантажуємо тестові дані MNIST\n",
        "(_, _), (X_test, y_test) = mnist.load_data()\n",
        "\n",
        "# Створюємо класифікатор\n",
        "classifier = MnistClassifier(\"cnn\")  # Можна \"nn\" або \"rf\"\n",
        "classifier.train()\n",
        "\n",
        "# Передбачаємо перше тестове зображення\n",
        "prediction = classifier.predict(X_test[0])\n",
        "print(f\"🔹 Передбачена цифра: {prediction}\")"
      ]
    },
    {
      "cell_type": "markdown",
      "source": [
        "## 🔥 Висновки\n",
        "| Модель          | Точність  | Час навчання |\n",
        "|----------------|-----------|--------------|\n",
        "| **Random Forest** | ~97.0% | 12 сек      |\n",
        "| **Neural Network** | ~97.9% | 2.5 хв      |\n",
        "| **CNN**          | ~99.2% | 10 хв       |\n",
        "\n",
        "**Висновки:**\n",
        "- **Random Forest** швидкий, але менш точний.\n",
        "- **Neural Network (MLP)** працює краще, ніж RF, але поступається CNN.\n",
        "- **CNN дає найкращий результат, але навчається найдовше.**\n",
        "\n",
        "🔥 **Висновок:** **CNN – найкращий варіант для MNIST, але Random Forest підходить для швидких рішень.**"
      ],
      "metadata": {
        "id": "BpcqCsIAYlMT"
      }
    }
  ]
}